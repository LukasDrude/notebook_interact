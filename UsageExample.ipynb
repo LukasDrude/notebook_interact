{
 "cells": [
  {
   "cell_type": "code",
   "execution_count": 107,
   "metadata": {
    "collapsed": false
   },
   "outputs": [],
   "source": [
    "%reload_ext autoreload\n",
    "%autoreload 2"
   ]
  },
  {
   "cell_type": "code",
   "execution_count": 108,
   "metadata": {
    "collapsed": false
   },
   "outputs": [],
   "source": [
    "import notebook_interact as ni"
   ]
  },
  {
   "cell_type": "code",
   "execution_count": 109,
   "metadata": {
    "collapsed": false
   },
   "outputs": [
    {
     "data": {
      "text/html": [
       "<div class=\"centerclass\"><canvas id=\"sketch\" width=\"200\" height=\"200\" /></div>"
      ],
      "text/plain": [
       "<IPython.core.display.HTML object>"
      ]
     },
     "metadata": {},
     "output_type": "display_data"
    },
    {
     "data": {
      "text/html": [
       "\n",
       "    <script src=\"src/js/jquery-1.7.min.js\"></script>\n",
       "    <script src=\"src/js/modernizr.custom.34982.js\"></script>\n",
       "\n",
       "    <script src=\"src/js/sketcher.js\"></script>\n",
       "    <script src=\"src/js/trigonometry.js\"></script>\n",
       "\n",
       "    <link rel=\"stylesheet\" href=\"src/assets/styles.css\" />\n",
       "\n",
       "    <script>\n",
       "    var sketcher = null;\n",
       "\n",
       "    $(document).ready(function(e) {\n",
       "        sketcher = new Sketcher( \"sketch\" );\n",
       "    });\n",
       "\n",
       "    function sendToIPython() {\n",
       "        var var_name = \"sketcher_image\";\n",
       "        var command = var_name + \" = '\" + sketcher.toString() + \"'\";\n",
       "        console.log(\"Executing Command: \" + command);\n",
       "\n",
       "        var kernel = IPython.notebook.kernel;\n",
       "        kernel.execute(command);\n",
       "    }\n",
       "    </script>\n",
       "\n",
       "    <button onclick=\"sketcher.clear();\">Clear</button>\n",
       "    <button onclick=\"sendToIPython();\">Send to IPyton</button>\n",
       "    "
      ],
      "text/plain": [
       "<IPython.core.display.HTML object>"
      ]
     },
     "metadata": {},
     "output_type": "display_data"
    }
   ],
   "source": [
    "ni.createImage()"
   ]
  },
  {
   "cell_type": "code",
   "execution_count": 113,
   "metadata": {
    "collapsed": false
   },
   "outputs": [],
   "source": [
    "ni.saveImage(sketcher_image, 'myTestImage.png')"
   ]
  },
  {
   "cell_type": "code",
   "execution_count": 114,
   "metadata": {
    "collapsed": false
   },
   "outputs": [
    {
     "data": {
      "image/png": "[encoded data removed]",
      "text/plain": [
       "<IPython.core.display.Image object>"
      ]
     },
     "execution_count": 114,
     "metadata": {},
     "output_type": "execute_result"
    }
   ],
   "source": [
    "from IPython.display import Image\n",
    "Image(\"myTestImage.png\")"
   ]
  },
  {
   "cell_type": "code",
   "execution_count": 115,
   "metadata": {
    "collapsed": false,
    "scrolled": true
   },
   "outputs": [
    {
     "data": {
      "image/png": "[encoded data removed]",
      "text/plain": [
       "<IPython.core.display.Image object>"
      ]
     },
     "execution_count": 115,
     "metadata": {},
     "output_type": "execute_result"
    }
   ],
   "source": [
    "from IPython.display import Image\n",
    "Image(sketcher_image.decode('base64'))"
   ]
  }
 ],
 "metadata": {
  "kernelspec": {
   "display_name": "Python 2",
   "language": "python",
   "name": "python2"
  },
  "language_info": {
   "codemirror_mode": {
    "name": "ipython",
    "version": 2
   },
   "file_extension": ".py",
   "mimetype": "text/x-python",
   "name": "python",
   "nbconvert_exporter": "python",
   "pygments_lexer": "ipython2",
   "version": "2.7.9"
  }
 },
 "nbformat": 4,
 "nbformat_minor": 0
}
